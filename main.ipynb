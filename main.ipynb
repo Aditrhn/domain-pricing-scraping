{
 "cells": [
  {
   "cell_type": "markdown",
   "metadata": {},
   "source": [
    "## Importing Library\n",
    "Import library yang akan digunakan dalam project"
   ]
  },
  {
   "cell_type": "code",
   "execution_count": 1,
   "metadata": {},
   "outputs": [],
   "source": [
    "import pandas as pd\n",
    "import requests\n",
    "from bs4 import BeautifulSoup"
   ]
  },
  {
   "cell_type": "markdown",
   "metadata": {},
   "source": [
    "## Scrape Data\n",
    "Melakukan scraping data dari web, kemudian menyimpannya ke dalam bentuk dataframe"
   ]
  },
  {
   "cell_type": "code",
   "execution_count": 2,
   "metadata": {},
   "outputs": [
    {
     "data": {
      "text/plain": [
       "[              TLD     New Domain Transfer / Renewal\n",
       " 0             .ac    Rp. 900,000        Rp. 900,000\n",
       " 1          .ac.id     Rp. 50,000         Rp. 50,000\n",
       " 2        .academy    Rp. 450,000        Rp. 450,000\n",
       " 3     .accountant    Rp. 420,000        Rp. 420,000\n",
       " 4    .accountants  Rp. 1,350,000      Rp. 1,350,000\n",
       " ..            ...            ...                ...\n",
       " 142      .guitars  Rp. 1,850,000      Rp. 1,850,000\n",
       " 143         .guru    Rp. 420,000        Rp. 420,000\n",
       " 144         .haus    Rp. 450,000        Rp. 450,000\n",
       " 145   .healthcare    Rp. 700,000        Rp. 700,000\n",
       " 146         .help    Rp. 400,000        Rp. 400,000\n",
       " \n",
       " [147 rows x 3 columns],\n",
       "            TLD     New Domain Transfer / Renewal\n",
       " 0         .hiv  Rp. 3,500,000      Rp. 3,500,000\n",
       " 1    .holdings    Rp. 700,000        Rp. 700,000\n",
       " 2     .holiday    Rp. 700,000        Rp. 700,000\n",
       " 3        .host  Rp. 1,300,000      Rp. 1,300,000\n",
       " 4     .hosting  Rp. 5,600,000      Rp. 5,600,000\n",
       " ..         ...            ...                ...\n",
       " 142     .works    Rp. 450,000        Rp. 450,000\n",
       " 143     .world    Rp. 450,000        Rp. 450,000\n",
       " 144   .xyz Hot     Rp. 25,000        Rp. 160,000\n",
       " 145      .yoga    Rp. 420,000        Rp. 420,000\n",
       " 146      .zone    Rp. 450,000        Rp. 450,000\n",
       " \n",
       " [147 rows x 3 columns]]"
      ]
     },
     "execution_count": 2,
     "metadata": {},
     "output_type": "execute_result"
    }
   ],
   "source": [
    "url = 'https://www.dewaweb.com/domain'\n",
    "\n",
    "response = requests.get(url)\n",
    "\n",
    "response_content = response.content\n",
    "\n",
    "output = pd.read_html(response_content)\n",
    "output"
   ]
  },
  {
   "cell_type": "markdown",
   "metadata": {},
   "source": [
    "## Checking\n",
    "Melakukan pengecekan pada hasil scraping"
   ]
  },
  {
   "cell_type": "code",
   "execution_count": 3,
   "metadata": {},
   "outputs": [
    {
     "data": {
      "text/html": [
       "<div>\n",
       "<style scoped>\n",
       "    .dataframe tbody tr th:only-of-type {\n",
       "        vertical-align: middle;\n",
       "    }\n",
       "\n",
       "    .dataframe tbody tr th {\n",
       "        vertical-align: top;\n",
       "    }\n",
       "\n",
       "    .dataframe thead th {\n",
       "        text-align: right;\n",
       "    }\n",
       "</style>\n",
       "<table border=\"1\" class=\"dataframe\">\n",
       "  <thead>\n",
       "    <tr style=\"text-align: right;\">\n",
       "      <th></th>\n",
       "      <th>TLD</th>\n",
       "      <th>New Domain</th>\n",
       "      <th>Transfer / Renewal</th>\n",
       "    </tr>\n",
       "  </thead>\n",
       "  <tbody>\n",
       "    <tr>\n",
       "      <th>0</th>\n",
       "      <td>.ac</td>\n",
       "      <td>Rp. 900,000</td>\n",
       "      <td>Rp. 900,000</td>\n",
       "    </tr>\n",
       "    <tr>\n",
       "      <th>1</th>\n",
       "      <td>.ac.id</td>\n",
       "      <td>Rp. 50,000</td>\n",
       "      <td>Rp. 50,000</td>\n",
       "    </tr>\n",
       "    <tr>\n",
       "      <th>2</th>\n",
       "      <td>.academy</td>\n",
       "      <td>Rp. 450,000</td>\n",
       "      <td>Rp. 450,000</td>\n",
       "    </tr>\n",
       "    <tr>\n",
       "      <th>3</th>\n",
       "      <td>.accountant</td>\n",
       "      <td>Rp. 420,000</td>\n",
       "      <td>Rp. 420,000</td>\n",
       "    </tr>\n",
       "    <tr>\n",
       "      <th>4</th>\n",
       "      <td>.accountants</td>\n",
       "      <td>Rp. 1,350,000</td>\n",
       "      <td>Rp. 1,350,000</td>\n",
       "    </tr>\n",
       "  </tbody>\n",
       "</table>\n",
       "</div>"
      ],
      "text/plain": [
       "            TLD     New Domain Transfer / Renewal\n",
       "0           .ac    Rp. 900,000        Rp. 900,000\n",
       "1        .ac.id     Rp. 50,000         Rp. 50,000\n",
       "2      .academy    Rp. 450,000        Rp. 450,000\n",
       "3   .accountant    Rp. 420,000        Rp. 420,000\n",
       "4  .accountants  Rp. 1,350,000      Rp. 1,350,000"
      ]
     },
     "execution_count": 3,
     "metadata": {},
     "output_type": "execute_result"
    }
   ],
   "source": [
    "output[0].head()"
   ]
  },
  {
   "cell_type": "code",
   "execution_count": 4,
   "metadata": {},
   "outputs": [
    {
     "data": {
      "text/html": [
       "<div>\n",
       "<style scoped>\n",
       "    .dataframe tbody tr th:only-of-type {\n",
       "        vertical-align: middle;\n",
       "    }\n",
       "\n",
       "    .dataframe tbody tr th {\n",
       "        vertical-align: top;\n",
       "    }\n",
       "\n",
       "    .dataframe thead th {\n",
       "        text-align: right;\n",
       "    }\n",
       "</style>\n",
       "<table border=\"1\" class=\"dataframe\">\n",
       "  <thead>\n",
       "    <tr style=\"text-align: right;\">\n",
       "      <th></th>\n",
       "      <th>TLD</th>\n",
       "      <th>New Domain</th>\n",
       "      <th>Transfer / Renewal</th>\n",
       "    </tr>\n",
       "  </thead>\n",
       "  <tbody>\n",
       "    <tr>\n",
       "      <th>142</th>\n",
       "      <td>.guitars</td>\n",
       "      <td>Rp. 1,850,000</td>\n",
       "      <td>Rp. 1,850,000</td>\n",
       "    </tr>\n",
       "    <tr>\n",
       "      <th>143</th>\n",
       "      <td>.guru</td>\n",
       "      <td>Rp. 420,000</td>\n",
       "      <td>Rp. 420,000</td>\n",
       "    </tr>\n",
       "    <tr>\n",
       "      <th>144</th>\n",
       "      <td>.haus</td>\n",
       "      <td>Rp. 450,000</td>\n",
       "      <td>Rp. 450,000</td>\n",
       "    </tr>\n",
       "    <tr>\n",
       "      <th>145</th>\n",
       "      <td>.healthcare</td>\n",
       "      <td>Rp. 700,000</td>\n",
       "      <td>Rp. 700,000</td>\n",
       "    </tr>\n",
       "    <tr>\n",
       "      <th>146</th>\n",
       "      <td>.help</td>\n",
       "      <td>Rp. 400,000</td>\n",
       "      <td>Rp. 400,000</td>\n",
       "    </tr>\n",
       "  </tbody>\n",
       "</table>\n",
       "</div>"
      ],
      "text/plain": [
       "             TLD     New Domain Transfer / Renewal\n",
       "142     .guitars  Rp. 1,850,000      Rp. 1,850,000\n",
       "143        .guru    Rp. 420,000        Rp. 420,000\n",
       "144        .haus    Rp. 450,000        Rp. 450,000\n",
       "145  .healthcare    Rp. 700,000        Rp. 700,000\n",
       "146        .help    Rp. 400,000        Rp. 400,000"
      ]
     },
     "execution_count": 4,
     "metadata": {},
     "output_type": "execute_result"
    }
   ],
   "source": [
    "output[0].tail()"
   ]
  },
  {
   "cell_type": "code",
   "execution_count": 5,
   "metadata": {},
   "outputs": [
    {
     "data": {
      "text/html": [
       "<div>\n",
       "<style scoped>\n",
       "    .dataframe tbody tr th:only-of-type {\n",
       "        vertical-align: middle;\n",
       "    }\n",
       "\n",
       "    .dataframe tbody tr th {\n",
       "        vertical-align: top;\n",
       "    }\n",
       "\n",
       "    .dataframe thead th {\n",
       "        text-align: right;\n",
       "    }\n",
       "</style>\n",
       "<table border=\"1\" class=\"dataframe\">\n",
       "  <thead>\n",
       "    <tr style=\"text-align: right;\">\n",
       "      <th></th>\n",
       "      <th>TLD</th>\n",
       "      <th>New Domain</th>\n",
       "      <th>Transfer / Renewal</th>\n",
       "    </tr>\n",
       "  </thead>\n",
       "  <tbody>\n",
       "    <tr>\n",
       "      <th>0</th>\n",
       "      <td>.hiv</td>\n",
       "      <td>Rp. 3,500,000</td>\n",
       "      <td>Rp. 3,500,000</td>\n",
       "    </tr>\n",
       "    <tr>\n",
       "      <th>1</th>\n",
       "      <td>.holdings</td>\n",
       "      <td>Rp. 700,000</td>\n",
       "      <td>Rp. 700,000</td>\n",
       "    </tr>\n",
       "    <tr>\n",
       "      <th>2</th>\n",
       "      <td>.holiday</td>\n",
       "      <td>Rp. 700,000</td>\n",
       "      <td>Rp. 700,000</td>\n",
       "    </tr>\n",
       "    <tr>\n",
       "      <th>3</th>\n",
       "      <td>.host</td>\n",
       "      <td>Rp. 1,300,000</td>\n",
       "      <td>Rp. 1,300,000</td>\n",
       "    </tr>\n",
       "    <tr>\n",
       "      <th>4</th>\n",
       "      <td>.hosting</td>\n",
       "      <td>Rp. 5,600,000</td>\n",
       "      <td>Rp. 5,600,000</td>\n",
       "    </tr>\n",
       "  </tbody>\n",
       "</table>\n",
       "</div>"
      ],
      "text/plain": [
       "         TLD     New Domain Transfer / Renewal\n",
       "0       .hiv  Rp. 3,500,000      Rp. 3,500,000\n",
       "1  .holdings    Rp. 700,000        Rp. 700,000\n",
       "2   .holiday    Rp. 700,000        Rp. 700,000\n",
       "3      .host  Rp. 1,300,000      Rp. 1,300,000\n",
       "4   .hosting  Rp. 5,600,000      Rp. 5,600,000"
      ]
     },
     "execution_count": 5,
     "metadata": {},
     "output_type": "execute_result"
    }
   ],
   "source": [
    "output[1].head()"
   ]
  },
  {
   "cell_type": "code",
   "execution_count": 6,
   "metadata": {},
   "outputs": [
    {
     "data": {
      "text/html": [
       "<div>\n",
       "<style scoped>\n",
       "    .dataframe tbody tr th:only-of-type {\n",
       "        vertical-align: middle;\n",
       "    }\n",
       "\n",
       "    .dataframe tbody tr th {\n",
       "        vertical-align: top;\n",
       "    }\n",
       "\n",
       "    .dataframe thead th {\n",
       "        text-align: right;\n",
       "    }\n",
       "</style>\n",
       "<table border=\"1\" class=\"dataframe\">\n",
       "  <thead>\n",
       "    <tr style=\"text-align: right;\">\n",
       "      <th></th>\n",
       "      <th>TLD</th>\n",
       "      <th>New Domain</th>\n",
       "      <th>Transfer / Renewal</th>\n",
       "    </tr>\n",
       "  </thead>\n",
       "  <tbody>\n",
       "    <tr>\n",
       "      <th>142</th>\n",
       "      <td>.works</td>\n",
       "      <td>Rp. 450,000</td>\n",
       "      <td>Rp. 450,000</td>\n",
       "    </tr>\n",
       "    <tr>\n",
       "      <th>143</th>\n",
       "      <td>.world</td>\n",
       "      <td>Rp. 450,000</td>\n",
       "      <td>Rp. 450,000</td>\n",
       "    </tr>\n",
       "    <tr>\n",
       "      <th>144</th>\n",
       "      <td>.xyz Hot</td>\n",
       "      <td>Rp. 25,000</td>\n",
       "      <td>Rp. 160,000</td>\n",
       "    </tr>\n",
       "    <tr>\n",
       "      <th>145</th>\n",
       "      <td>.yoga</td>\n",
       "      <td>Rp. 420,000</td>\n",
       "      <td>Rp. 420,000</td>\n",
       "    </tr>\n",
       "    <tr>\n",
       "      <th>146</th>\n",
       "      <td>.zone</td>\n",
       "      <td>Rp. 450,000</td>\n",
       "      <td>Rp. 450,000</td>\n",
       "    </tr>\n",
       "  </tbody>\n",
       "</table>\n",
       "</div>"
      ],
      "text/plain": [
       "          TLD   New Domain Transfer / Renewal\n",
       "142    .works  Rp. 450,000        Rp. 450,000\n",
       "143    .world  Rp. 450,000        Rp. 450,000\n",
       "144  .xyz Hot   Rp. 25,000        Rp. 160,000\n",
       "145     .yoga  Rp. 420,000        Rp. 420,000\n",
       "146     .zone  Rp. 450,000        Rp. 450,000"
      ]
     },
     "execution_count": 6,
     "metadata": {},
     "output_type": "execute_result"
    }
   ],
   "source": [
    "output[1].tail()"
   ]
  },
  {
   "cell_type": "markdown",
   "metadata": {},
   "source": [
    "## Menggabungkan Hasil\n",
    "Dari hasil scraping web yang telah dilakukan, didapatkan dua buah table terpisah. Untuk memudahkan proses selanjutnya, maka perlu dilakukan penggabungan kedua table tersebut."
   ]
  },
  {
   "cell_type": "code",
   "execution_count": 7,
   "metadata": {},
   "outputs": [
    {
     "name": "stderr",
     "output_type": "stream",
     "text": [
      "C:\\Users\\atra\\AppData\\Local\\Temp\\ipykernel_17164\\360260661.py:1: FutureWarning: The frame.append method is deprecated and will be removed from pandas in a future version. Use pandas.concat instead.\n",
      "  dewaWeb_pricing = output[0].append(output[1], ignore_index=True)\n"
     ]
    },
    {
     "data": {
      "text/plain": [
       "(294, 3)"
      ]
     },
     "execution_count": 7,
     "metadata": {},
     "output_type": "execute_result"
    }
   ],
   "source": [
    "dewaWeb_pricing = output[0].append(output[1], ignore_index=True)\n",
    "dewaWeb_pricing.shape"
   ]
  },
  {
   "cell_type": "code",
   "execution_count": 8,
   "metadata": {},
   "outputs": [
    {
     "data": {
      "text/html": [
       "<div>\n",
       "<style scoped>\n",
       "    .dataframe tbody tr th:only-of-type {\n",
       "        vertical-align: middle;\n",
       "    }\n",
       "\n",
       "    .dataframe tbody tr th {\n",
       "        vertical-align: top;\n",
       "    }\n",
       "\n",
       "    .dataframe thead th {\n",
       "        text-align: right;\n",
       "    }\n",
       "</style>\n",
       "<table border=\"1\" class=\"dataframe\">\n",
       "  <thead>\n",
       "    <tr style=\"text-align: right;\">\n",
       "      <th></th>\n",
       "      <th>TLD</th>\n",
       "      <th>New Domain</th>\n",
       "      <th>Transfer / Renewal</th>\n",
       "    </tr>\n",
       "  </thead>\n",
       "  <tbody>\n",
       "    <tr>\n",
       "      <th>0</th>\n",
       "      <td>.ac</td>\n",
       "      <td>Rp. 900,000</td>\n",
       "      <td>Rp. 900,000</td>\n",
       "    </tr>\n",
       "    <tr>\n",
       "      <th>1</th>\n",
       "      <td>.ac.id</td>\n",
       "      <td>Rp. 50,000</td>\n",
       "      <td>Rp. 50,000</td>\n",
       "    </tr>\n",
       "    <tr>\n",
       "      <th>2</th>\n",
       "      <td>.academy</td>\n",
       "      <td>Rp. 450,000</td>\n",
       "      <td>Rp. 450,000</td>\n",
       "    </tr>\n",
       "    <tr>\n",
       "      <th>3</th>\n",
       "      <td>.accountant</td>\n",
       "      <td>Rp. 420,000</td>\n",
       "      <td>Rp. 420,000</td>\n",
       "    </tr>\n",
       "    <tr>\n",
       "      <th>4</th>\n",
       "      <td>.accountants</td>\n",
       "      <td>Rp. 1,350,000</td>\n",
       "      <td>Rp. 1,350,000</td>\n",
       "    </tr>\n",
       "  </tbody>\n",
       "</table>\n",
       "</div>"
      ],
      "text/plain": [
       "            TLD     New Domain Transfer / Renewal\n",
       "0           .ac    Rp. 900,000        Rp. 900,000\n",
       "1        .ac.id     Rp. 50,000         Rp. 50,000\n",
       "2      .academy    Rp. 450,000        Rp. 450,000\n",
       "3   .accountant    Rp. 420,000        Rp. 420,000\n",
       "4  .accountants  Rp. 1,350,000      Rp. 1,350,000"
      ]
     },
     "execution_count": 8,
     "metadata": {},
     "output_type": "execute_result"
    }
   ],
   "source": [
    "dewaWeb_pricing.head()"
   ]
  },
  {
   "cell_type": "code",
   "execution_count": 9,
   "metadata": {},
   "outputs": [
    {
     "data": {
      "text/html": [
       "<div>\n",
       "<style scoped>\n",
       "    .dataframe tbody tr th:only-of-type {\n",
       "        vertical-align: middle;\n",
       "    }\n",
       "\n",
       "    .dataframe tbody tr th {\n",
       "        vertical-align: top;\n",
       "    }\n",
       "\n",
       "    .dataframe thead th {\n",
       "        text-align: right;\n",
       "    }\n",
       "</style>\n",
       "<table border=\"1\" class=\"dataframe\">\n",
       "  <thead>\n",
       "    <tr style=\"text-align: right;\">\n",
       "      <th></th>\n",
       "      <th>TLD</th>\n",
       "      <th>New Domain</th>\n",
       "      <th>Transfer / Renewal</th>\n",
       "    </tr>\n",
       "  </thead>\n",
       "  <tbody>\n",
       "    <tr>\n",
       "      <th>289</th>\n",
       "      <td>.works</td>\n",
       "      <td>Rp. 450,000</td>\n",
       "      <td>Rp. 450,000</td>\n",
       "    </tr>\n",
       "    <tr>\n",
       "      <th>290</th>\n",
       "      <td>.world</td>\n",
       "      <td>Rp. 450,000</td>\n",
       "      <td>Rp. 450,000</td>\n",
       "    </tr>\n",
       "    <tr>\n",
       "      <th>291</th>\n",
       "      <td>.xyz Hot</td>\n",
       "      <td>Rp. 25,000</td>\n",
       "      <td>Rp. 160,000</td>\n",
       "    </tr>\n",
       "    <tr>\n",
       "      <th>292</th>\n",
       "      <td>.yoga</td>\n",
       "      <td>Rp. 420,000</td>\n",
       "      <td>Rp. 420,000</td>\n",
       "    </tr>\n",
       "    <tr>\n",
       "      <th>293</th>\n",
       "      <td>.zone</td>\n",
       "      <td>Rp. 450,000</td>\n",
       "      <td>Rp. 450,000</td>\n",
       "    </tr>\n",
       "  </tbody>\n",
       "</table>\n",
       "</div>"
      ],
      "text/plain": [
       "          TLD   New Domain Transfer / Renewal\n",
       "289    .works  Rp. 450,000        Rp. 450,000\n",
       "290    .world  Rp. 450,000        Rp. 450,000\n",
       "291  .xyz Hot   Rp. 25,000        Rp. 160,000\n",
       "292     .yoga  Rp. 420,000        Rp. 420,000\n",
       "293     .zone  Rp. 450,000        Rp. 450,000"
      ]
     },
     "execution_count": 9,
     "metadata": {},
     "output_type": "execute_result"
    }
   ],
   "source": [
    "dewaWeb_pricing.tail()"
   ]
  },
  {
   "cell_type": "code",
   "execution_count": 10,
   "metadata": {},
   "outputs": [
    {
     "data": {
      "text/plain": [
       "TLD                   False\n",
       "New Domain            False\n",
       "Transfer / Renewal    False\n",
       "dtype: bool"
      ]
     },
     "execution_count": 10,
     "metadata": {},
     "output_type": "execute_result"
    }
   ],
   "source": [
    "dewaWeb_pricing.isnull().any()"
   ]
  },
  {
   "cell_type": "code",
   "execution_count": 11,
   "metadata": {},
   "outputs": [
    {
     "data": {
      "text/plain": [
       "False"
      ]
     },
     "execution_count": 11,
     "metadata": {},
     "output_type": "execute_result"
    }
   ],
   "source": [
    "dewaWeb_pricing.duplicated().any()"
   ]
  },
  {
   "cell_type": "markdown",
   "metadata": {},
   "source": [
    "## Data Cleaning\n",
    "Membersihkan data seperti mengganti nama kolom menjadi nama yang lebih baik, membersihkan data pada kolom New Domain dan Transfer / Renewal agar dapat diolah lebih lanjut serta mengubah tipe datanya menjadi integer."
   ]
  },
  {
   "cell_type": "code",
   "execution_count": 12,
   "metadata": {},
   "outputs": [],
   "source": [
    "dewaWeb_pricing.rename(columns= {'New Domain':'new_domain', 'Transfer / Renewal':'transfer_or_renewal'}, inplace=True)"
   ]
  },
  {
   "cell_type": "code",
   "execution_count": 13,
   "metadata": {},
   "outputs": [
    {
     "data": {
      "text/html": [
       "<div>\n",
       "<style scoped>\n",
       "    .dataframe tbody tr th:only-of-type {\n",
       "        vertical-align: middle;\n",
       "    }\n",
       "\n",
       "    .dataframe tbody tr th {\n",
       "        vertical-align: top;\n",
       "    }\n",
       "\n",
       "    .dataframe thead th {\n",
       "        text-align: right;\n",
       "    }\n",
       "</style>\n",
       "<table border=\"1\" class=\"dataframe\">\n",
       "  <thead>\n",
       "    <tr style=\"text-align: right;\">\n",
       "      <th></th>\n",
       "      <th>TLD</th>\n",
       "      <th>new_domain</th>\n",
       "      <th>transfer_or_renewal</th>\n",
       "    </tr>\n",
       "  </thead>\n",
       "  <tbody>\n",
       "    <tr>\n",
       "      <th>0</th>\n",
       "      <td>.ac</td>\n",
       "      <td>Rp. 900000</td>\n",
       "      <td>Rp. 900000</td>\n",
       "    </tr>\n",
       "    <tr>\n",
       "      <th>1</th>\n",
       "      <td>.ac.id</td>\n",
       "      <td>Rp. 50000</td>\n",
       "      <td>Rp. 50000</td>\n",
       "    </tr>\n",
       "    <tr>\n",
       "      <th>2</th>\n",
       "      <td>.academy</td>\n",
       "      <td>Rp. 450000</td>\n",
       "      <td>Rp. 450000</td>\n",
       "    </tr>\n",
       "    <tr>\n",
       "      <th>3</th>\n",
       "      <td>.accountant</td>\n",
       "      <td>Rp. 420000</td>\n",
       "      <td>Rp. 420000</td>\n",
       "    </tr>\n",
       "    <tr>\n",
       "      <th>4</th>\n",
       "      <td>.accountants</td>\n",
       "      <td>Rp. 1350000</td>\n",
       "      <td>Rp. 1350000</td>\n",
       "    </tr>\n",
       "  </tbody>\n",
       "</table>\n",
       "</div>"
      ],
      "text/plain": [
       "            TLD   new_domain transfer_or_renewal\n",
       "0           .ac   Rp. 900000          Rp. 900000\n",
       "1        .ac.id    Rp. 50000           Rp. 50000\n",
       "2      .academy   Rp. 450000          Rp. 450000\n",
       "3   .accountant   Rp. 420000          Rp. 420000\n",
       "4  .accountants  Rp. 1350000         Rp. 1350000"
      ]
     },
     "execution_count": 13,
     "metadata": {},
     "output_type": "execute_result"
    }
   ],
   "source": [
    "dewaWeb_pricing['new_domain'] = dewaWeb_pricing['new_domain'].str.replace(',', '')\n",
    "dewaWeb_pricing['transfer_or_renewal'] = dewaWeb_pricing['transfer_or_renewal'].str.replace(',', '')\n",
    "dewaWeb_pricing.head()"
   ]
  },
  {
   "cell_type": "code",
   "execution_count": 14,
   "metadata": {},
   "outputs": [
    {
     "data": {
      "text/html": [
       "<div>\n",
       "<style scoped>\n",
       "    .dataframe tbody tr th:only-of-type {\n",
       "        vertical-align: middle;\n",
       "    }\n",
       "\n",
       "    .dataframe tbody tr th {\n",
       "        vertical-align: top;\n",
       "    }\n",
       "\n",
       "    .dataframe thead th {\n",
       "        text-align: right;\n",
       "    }\n",
       "</style>\n",
       "<table border=\"1\" class=\"dataframe\">\n",
       "  <thead>\n",
       "    <tr style=\"text-align: right;\">\n",
       "      <th></th>\n",
       "      <th>TLD</th>\n",
       "      <th>new_domain</th>\n",
       "      <th>transfer_or_renewal</th>\n",
       "    </tr>\n",
       "  </thead>\n",
       "  <tbody>\n",
       "    <tr>\n",
       "      <th>0</th>\n",
       "      <td>.ac</td>\n",
       "      <td>Rp.900000</td>\n",
       "      <td>Rp.900000</td>\n",
       "    </tr>\n",
       "    <tr>\n",
       "      <th>1</th>\n",
       "      <td>.ac.id</td>\n",
       "      <td>Rp.50000</td>\n",
       "      <td>Rp.50000</td>\n",
       "    </tr>\n",
       "    <tr>\n",
       "      <th>2</th>\n",
       "      <td>.academy</td>\n",
       "      <td>Rp.450000</td>\n",
       "      <td>Rp.450000</td>\n",
       "    </tr>\n",
       "    <tr>\n",
       "      <th>3</th>\n",
       "      <td>.accountant</td>\n",
       "      <td>Rp.420000</td>\n",
       "      <td>Rp.420000</td>\n",
       "    </tr>\n",
       "    <tr>\n",
       "      <th>4</th>\n",
       "      <td>.accountants</td>\n",
       "      <td>Rp.1350000</td>\n",
       "      <td>Rp.1350000</td>\n",
       "    </tr>\n",
       "  </tbody>\n",
       "</table>\n",
       "</div>"
      ],
      "text/plain": [
       "            TLD  new_domain transfer_or_renewal\n",
       "0           .ac   Rp.900000           Rp.900000\n",
       "1        .ac.id    Rp.50000            Rp.50000\n",
       "2      .academy   Rp.450000           Rp.450000\n",
       "3   .accountant   Rp.420000           Rp.420000\n",
       "4  .accountants  Rp.1350000          Rp.1350000"
      ]
     },
     "execution_count": 14,
     "metadata": {},
     "output_type": "execute_result"
    }
   ],
   "source": [
    "dewaWeb_pricing['new_domain'] = dewaWeb_pricing['new_domain'].str.replace(' ', '')\n",
    "dewaWeb_pricing['transfer_or_renewal'] = dewaWeb_pricing['transfer_or_renewal'].str.replace(' ', '')\n",
    "dewaWeb_pricing.head()"
   ]
  },
  {
   "cell_type": "code",
   "execution_count": 15,
   "metadata": {},
   "outputs": [
    {
     "data": {
      "text/html": [
       "<div>\n",
       "<style scoped>\n",
       "    .dataframe tbody tr th:only-of-type {\n",
       "        vertical-align: middle;\n",
       "    }\n",
       "\n",
       "    .dataframe tbody tr th {\n",
       "        vertical-align: top;\n",
       "    }\n",
       "\n",
       "    .dataframe thead th {\n",
       "        text-align: right;\n",
       "    }\n",
       "</style>\n",
       "<table border=\"1\" class=\"dataframe\">\n",
       "  <thead>\n",
       "    <tr style=\"text-align: right;\">\n",
       "      <th></th>\n",
       "      <th>TLD</th>\n",
       "      <th>new_domain</th>\n",
       "      <th>transfer_or_renewal</th>\n",
       "    </tr>\n",
       "  </thead>\n",
       "  <tbody>\n",
       "    <tr>\n",
       "      <th>0</th>\n",
       "      <td>.ac</td>\n",
       "      <td>Rp.900000</td>\n",
       "      <td>Rp.900000</td>\n",
       "    </tr>\n",
       "    <tr>\n",
       "      <th>1</th>\n",
       "      <td>.ac.id</td>\n",
       "      <td>Rp.50000</td>\n",
       "      <td>Rp.50000</td>\n",
       "    </tr>\n",
       "    <tr>\n",
       "      <th>2</th>\n",
       "      <td>.academy</td>\n",
       "      <td>Rp.450000</td>\n",
       "      <td>Rp.450000</td>\n",
       "    </tr>\n",
       "    <tr>\n",
       "      <th>3</th>\n",
       "      <td>.accountant</td>\n",
       "      <td>Rp.420000</td>\n",
       "      <td>Rp.420000</td>\n",
       "    </tr>\n",
       "    <tr>\n",
       "      <th>4</th>\n",
       "      <td>.accountants</td>\n",
       "      <td>Rp.1350000</td>\n",
       "      <td>Rp.1350000</td>\n",
       "    </tr>\n",
       "  </tbody>\n",
       "</table>\n",
       "</div>"
      ],
      "text/plain": [
       "            TLD  new_domain transfer_or_renewal\n",
       "0           .ac   Rp.900000           Rp.900000\n",
       "1        .ac.id    Rp.50000            Rp.50000\n",
       "2      .academy   Rp.450000           Rp.450000\n",
       "3   .accountant   Rp.420000           Rp.420000\n",
       "4  .accountants  Rp.1350000          Rp.1350000"
      ]
     },
     "execution_count": 15,
     "metadata": {},
     "output_type": "execute_result"
    }
   ],
   "source": [
    "dewaWeb_pricing['TLD'] = dewaWeb_pricing['TLD'].str.replace(' Hot', '')\n",
    "dewaWeb_pricing.head()"
   ]
  },
  {
   "cell_type": "markdown",
   "metadata": {},
   "source": [
    "Menggunakan regular expression untuk menghilangkan mata uang di depan angka"
   ]
  },
  {
   "cell_type": "code",
   "execution_count": 16,
   "metadata": {},
   "outputs": [],
   "source": [
    "import re\n",
    "\n",
    "def remove_currency(text):\n",
    "    pattern = r'(Rp\\.?|IDR)'\n",
    "    return re.sub(pattern, '', text)"
   ]
  },
  {
   "cell_type": "code",
   "execution_count": 17,
   "metadata": {},
   "outputs": [
    {
     "data": {
      "text/html": [
       "<div>\n",
       "<style scoped>\n",
       "    .dataframe tbody tr th:only-of-type {\n",
       "        vertical-align: middle;\n",
       "    }\n",
       "\n",
       "    .dataframe tbody tr th {\n",
       "        vertical-align: top;\n",
       "    }\n",
       "\n",
       "    .dataframe thead th {\n",
       "        text-align: right;\n",
       "    }\n",
       "</style>\n",
       "<table border=\"1\" class=\"dataframe\">\n",
       "  <thead>\n",
       "    <tr style=\"text-align: right;\">\n",
       "      <th></th>\n",
       "      <th>TLD</th>\n",
       "      <th>new_domain</th>\n",
       "      <th>transfer_or_renewal</th>\n",
       "    </tr>\n",
       "  </thead>\n",
       "  <tbody>\n",
       "    <tr>\n",
       "      <th>0</th>\n",
       "      <td>.ac</td>\n",
       "      <td>900000</td>\n",
       "      <td>900000</td>\n",
       "    </tr>\n",
       "    <tr>\n",
       "      <th>1</th>\n",
       "      <td>.ac.id</td>\n",
       "      <td>50000</td>\n",
       "      <td>50000</td>\n",
       "    </tr>\n",
       "    <tr>\n",
       "      <th>2</th>\n",
       "      <td>.academy</td>\n",
       "      <td>450000</td>\n",
       "      <td>450000</td>\n",
       "    </tr>\n",
       "    <tr>\n",
       "      <th>3</th>\n",
       "      <td>.accountant</td>\n",
       "      <td>420000</td>\n",
       "      <td>420000</td>\n",
       "    </tr>\n",
       "    <tr>\n",
       "      <th>4</th>\n",
       "      <td>.accountants</td>\n",
       "      <td>1350000</td>\n",
       "      <td>1350000</td>\n",
       "    </tr>\n",
       "  </tbody>\n",
       "</table>\n",
       "</div>"
      ],
      "text/plain": [
       "            TLD new_domain transfer_or_renewal\n",
       "0           .ac     900000              900000\n",
       "1        .ac.id      50000               50000\n",
       "2      .academy     450000              450000\n",
       "3   .accountant     420000              420000\n",
       "4  .accountants    1350000             1350000"
      ]
     },
     "execution_count": 17,
     "metadata": {},
     "output_type": "execute_result"
    }
   ],
   "source": [
    "dewaWeb_pricing['new_domain'] = dewaWeb_pricing['new_domain'].apply(remove_currency)\n",
    "dewaWeb_pricing['transfer_or_renewal'] = dewaWeb_pricing['transfer_or_renewal'].apply(remove_currency)\n",
    "dewaWeb_pricing.head()"
   ]
  },
  {
   "cell_type": "code",
   "execution_count": 18,
   "metadata": {},
   "outputs": [
    {
     "name": "stdout",
     "output_type": "stream",
     "text": [
      "<class 'pandas.core.frame.DataFrame'>\n",
      "RangeIndex: 294 entries, 0 to 293\n",
      "Data columns (total 3 columns):\n",
      " #   Column               Non-Null Count  Dtype \n",
      "---  ------               --------------  ----- \n",
      " 0   TLD                  294 non-null    object\n",
      " 1   new_domain           294 non-null    int32 \n",
      " 2   transfer_or_renewal  294 non-null    int32 \n",
      "dtypes: int32(2), object(1)\n",
      "memory usage: 4.7+ KB\n"
     ]
    }
   ],
   "source": [
    "dewaWeb_pricing['new_domain'] = dewaWeb_pricing['new_domain'].astype(int)\n",
    "dewaWeb_pricing['transfer_or_renewal'] = dewaWeb_pricing['transfer_or_renewal'].astype(int)\n",
    "dewaWeb_pricing.info()"
   ]
  },
  {
   "cell_type": "code",
   "execution_count": 19,
   "metadata": {},
   "outputs": [
    {
     "data": {
      "text/html": [
       "<div>\n",
       "<style scoped>\n",
       "    .dataframe tbody tr th:only-of-type {\n",
       "        vertical-align: middle;\n",
       "    }\n",
       "\n",
       "    .dataframe tbody tr th {\n",
       "        vertical-align: top;\n",
       "    }\n",
       "\n",
       "    .dataframe thead th {\n",
       "        text-align: right;\n",
       "    }\n",
       "</style>\n",
       "<table border=\"1\" class=\"dataframe\">\n",
       "  <thead>\n",
       "    <tr style=\"text-align: right;\">\n",
       "      <th></th>\n",
       "      <th>TLD</th>\n",
       "      <th>new_domain</th>\n",
       "      <th>transfer_or_renewal</th>\n",
       "    </tr>\n",
       "  </thead>\n",
       "  <tbody>\n",
       "    <tr>\n",
       "      <th>16</th>\n",
       "      <td>.auto</td>\n",
       "      <td>37500000</td>\n",
       "      <td>37500000</td>\n",
       "    </tr>\n",
       "    <tr>\n",
       "      <th>36</th>\n",
       "      <td>.cars</td>\n",
       "      <td>36000000</td>\n",
       "      <td>36000000</td>\n",
       "    </tr>\n",
       "    <tr>\n",
       "      <th>234</th>\n",
       "      <td>.security</td>\n",
       "      <td>34000000</td>\n",
       "      <td>34000000</td>\n",
       "    </tr>\n",
       "    <tr>\n",
       "      <th>151</th>\n",
       "      <td>.hosting</td>\n",
       "      <td>5600000</td>\n",
       "      <td>5600000</td>\n",
       "    </tr>\n",
       "    <tr>\n",
       "      <th>188</th>\n",
       "      <td>.movie</td>\n",
       "      <td>4500000</td>\n",
       "      <td>4500000</td>\n",
       "    </tr>\n",
       "    <tr>\n",
       "      <th>...</th>\n",
       "      <td>...</td>\n",
       "      <td>...</td>\n",
       "      <td>...</td>\n",
       "    </tr>\n",
       "    <tr>\n",
       "      <th>23</th>\n",
       "      <td>.biz.id</td>\n",
       "      <td>50000</td>\n",
       "      <td>50000</td>\n",
       "    </tr>\n",
       "    <tr>\n",
       "      <th>1</th>\n",
       "      <td>.ac.id</td>\n",
       "      <td>50000</td>\n",
       "      <td>50000</td>\n",
       "    </tr>\n",
       "    <tr>\n",
       "      <th>211</th>\n",
       "      <td>.ponpes.id</td>\n",
       "      <td>50000</td>\n",
       "      <td>50000</td>\n",
       "    </tr>\n",
       "    <tr>\n",
       "      <th>291</th>\n",
       "      <td>.xyz</td>\n",
       "      <td>25000</td>\n",
       "      <td>160000</td>\n",
       "    </tr>\n",
       "    <tr>\n",
       "      <th>189</th>\n",
       "      <td>.my.id</td>\n",
       "      <td>12000</td>\n",
       "      <td>12000</td>\n",
       "    </tr>\n",
       "  </tbody>\n",
       "</table>\n",
       "<p>294 rows × 3 columns</p>\n",
       "</div>"
      ],
      "text/plain": [
       "            TLD  new_domain  transfer_or_renewal\n",
       "16        .auto    37500000             37500000\n",
       "36        .cars    36000000             36000000\n",
       "234   .security    34000000             34000000\n",
       "151    .hosting     5600000              5600000\n",
       "188      .movie     4500000              4500000\n",
       "..          ...         ...                  ...\n",
       "23      .biz.id       50000                50000\n",
       "1        .ac.id       50000                50000\n",
       "211  .ponpes.id       50000                50000\n",
       "291        .xyz       25000               160000\n",
       "189      .my.id       12000                12000\n",
       "\n",
       "[294 rows x 3 columns]"
      ]
     },
     "execution_count": 19,
     "metadata": {},
     "output_type": "execute_result"
    }
   ],
   "source": [
    "dewaWeb_pricing.sort_values('new_domain', ascending=False)"
   ]
  },
  {
   "cell_type": "markdown",
   "metadata": {},
   "source": [
    "## Export Data\n",
    "Melakukan export data yang telah dibersihkan menjadi data csv"
   ]
  },
  {
   "cell_type": "code",
   "execution_count": 20,
   "metadata": {},
   "outputs": [],
   "source": [
    "dewaWeb_pricing.to_csv('DewaWeb_Pricing.csv',index=False)"
   ]
  }
 ],
 "metadata": {
  "kernelspec": {
   "display_name": "de",
   "language": "python",
   "name": "python3"
  },
  "language_info": {
   "codemirror_mode": {
    "name": "ipython",
    "version": 3
   },
   "file_extension": ".py",
   "mimetype": "text/x-python",
   "name": "python",
   "nbconvert_exporter": "python",
   "pygments_lexer": "ipython3",
   "version": "3.11.3"
  },
  "orig_nbformat": 4
 },
 "nbformat": 4,
 "nbformat_minor": 2
}
